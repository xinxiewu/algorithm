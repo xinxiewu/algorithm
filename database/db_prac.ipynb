{
 "cells": [
  {
   "cell_type": "markdown",
   "metadata": {},
   "source": [
    "# Database Pratice, in Pandas"
   ]
  },
  {
   "cell_type": "code",
   "execution_count": 1,
   "metadata": {},
   "outputs": [],
   "source": [
    "import pandas as pd\n",
    "import numpy as np"
   ]
  },
  {
   "cell_type": "markdown",
   "metadata": {},
   "source": [
    "3156. Employee Task Duration and Concurrent Tasks, @06/08/2024\n",
    "\n",
    "Notes: \n",
    "<br>&emsp;1. df.groupby(as_index=), False if reduce the dataset; \n",
    "<br>&emsp;2. df.groupby().agg(), the purpose of .agg() is to reduce the dataset; otherwise, use df.groupby()[cols].func();\n",
    "<br>&emsp;3. Create new column by condition: np.select, apply (axis=1 if iterate by row, lambda)"
   ]
  },
  {
   "cell_type": "code",
   "execution_count": 13,
   "metadata": {},
   "outputs": [
    {
     "data": {
      "text/html": [
       "<div>\n",
       "<style scoped>\n",
       "    .dataframe tbody tr th:only-of-type {\n",
       "        vertical-align: middle;\n",
       "    }\n",
       "\n",
       "    .dataframe tbody tr th {\n",
       "        vertical-align: top;\n",
       "    }\n",
       "\n",
       "    .dataframe thead th {\n",
       "        text-align: right;\n",
       "    }\n",
       "</style>\n",
       "<table border=\"1\" class=\"dataframe\">\n",
       "  <thead>\n",
       "    <tr style=\"text-align: right;\">\n",
       "      <th></th>\n",
       "      <th>task_id</th>\n",
       "      <th>employee_id</th>\n",
       "      <th>start_time</th>\n",
       "      <th>end_time</th>\n",
       "    </tr>\n",
       "  </thead>\n",
       "  <tbody>\n",
       "    <tr>\n",
       "      <th>0</th>\n",
       "      <td>1</td>\n",
       "      <td>1001</td>\n",
       "      <td>2023-05-01 08:00:00</td>\n",
       "      <td>2023-05-01 09:00:00</td>\n",
       "    </tr>\n",
       "  </tbody>\n",
       "</table>\n",
       "</div>"
      ],
      "text/plain": [
       "   task_id  employee_id          start_time            end_time\n",
       "0        1         1001 2023-05-01 08:00:00 2023-05-01 09:00:00"
      ]
     },
     "execution_count": 13,
     "metadata": {},
     "output_type": "execute_result"
    }
   ],
   "source": [
    "data = [[1, 1001, '2023-05-01 08:00:00', '2023-05-01 09:00:00'], [2, 1001, '2023-05-01 08:30:00', '2023-05-01 10:30:00'], [3, 1001, '2023-05-01 11:00:00', '2023-05-01 12:00:00'], [7, 1001, '2023-05-01 13:00:00', '2023-05-01 15:30:00'], [4, 1002, '2023-05-01 09:00:00', '2023-05-01 10:00:00'], [5, 1002, '2023-05-01 09:30:00', '2023-05-01 11:30:00'], [6, 1003, '2023-05-01 14:00:00', '2023-05-01 16:00:00']]\n",
    "tasks = pd.DataFrame(data, columns=['task_id', 'employee_id', 'start_time', 'end_time']).astype({\n",
    "    'task_id': 'Int64',\n",
    "    'employee_id': 'Int64',\n",
    "    'start_time': 'datetime64[ns]',\n",
    "    'end_time': 'datetime64[ns]'\n",
    "})\n",
    "tasks.head(1)"
   ]
  },
  {
   "cell_type": "code",
   "execution_count": null,
   "metadata": {},
   "outputs": [],
   "source": [
    "def find_total_duration(tasks: pd.DataFrame) -> pd.DataFrame:\n",
    "    pass\n",
    "\n",
    "find_total_duration(tasks=tasks)"
   ]
  },
  {
   "cell_type": "code",
   "execution_count": 16,
   "metadata": {},
   "outputs": [
    {
     "data": {
      "text/html": [
       "<div>\n",
       "<style scoped>\n",
       "    .dataframe tbody tr th:only-of-type {\n",
       "        vertical-align: middle;\n",
       "    }\n",
       "\n",
       "    .dataframe tbody tr th {\n",
       "        vertical-align: top;\n",
       "    }\n",
       "\n",
       "    .dataframe thead th {\n",
       "        text-align: right;\n",
       "    }\n",
       "</style>\n",
       "<table border=\"1\" class=\"dataframe\">\n",
       "  <thead>\n",
       "    <tr style=\"text-align: right;\">\n",
       "      <th></th>\n",
       "      <th>task_id</th>\n",
       "      <th>employee_id</th>\n",
       "      <th>start_time</th>\n",
       "      <th>end_time</th>\n",
       "      <th>latest_end_time</th>\n",
       "      <th>overlap</th>\n",
       "      <th>prev_end_time</th>\n",
       "    </tr>\n",
       "  </thead>\n",
       "  <tbody>\n",
       "    <tr>\n",
       "      <th>0</th>\n",
       "      <td>1</td>\n",
       "      <td>1001</td>\n",
       "      <td>2023-05-01 08:00:00</td>\n",
       "      <td>2023-05-01 09:00:00</td>\n",
       "      <td>2023-05-01 09:00:00</td>\n",
       "      <td>False</td>\n",
       "      <td>NaT</td>\n",
       "    </tr>\n",
       "    <tr>\n",
       "      <th>1</th>\n",
       "      <td>2</td>\n",
       "      <td>1001</td>\n",
       "      <td>2023-05-01 08:30:00</td>\n",
       "      <td>2023-05-01 10:30:00</td>\n",
       "      <td>2023-05-01 10:30:00</td>\n",
       "      <td>True</td>\n",
       "      <td>2023-05-01 09:00:00</td>\n",
       "    </tr>\n",
       "    <tr>\n",
       "      <th>2</th>\n",
       "      <td>3</td>\n",
       "      <td>1001</td>\n",
       "      <td>2023-05-01 11:00:00</td>\n",
       "      <td>2023-05-01 12:00:00</td>\n",
       "      <td>2023-05-01 12:00:00</td>\n",
       "      <td>False</td>\n",
       "      <td>2023-05-01 10:30:00</td>\n",
       "    </tr>\n",
       "    <tr>\n",
       "      <th>3</th>\n",
       "      <td>7</td>\n",
       "      <td>1001</td>\n",
       "      <td>2023-05-01 13:00:00</td>\n",
       "      <td>2023-05-01 15:30:00</td>\n",
       "      <td>2023-05-01 15:30:00</td>\n",
       "      <td>False</td>\n",
       "      <td>2023-05-01 12:00:00</td>\n",
       "    </tr>\n",
       "    <tr>\n",
       "      <th>4</th>\n",
       "      <td>4</td>\n",
       "      <td>1002</td>\n",
       "      <td>2023-05-01 09:00:00</td>\n",
       "      <td>2023-05-01 10:00:00</td>\n",
       "      <td>2023-05-01 10:00:00</td>\n",
       "      <td>False</td>\n",
       "      <td>NaT</td>\n",
       "    </tr>\n",
       "    <tr>\n",
       "      <th>5</th>\n",
       "      <td>5</td>\n",
       "      <td>1002</td>\n",
       "      <td>2023-05-01 09:30:00</td>\n",
       "      <td>2023-05-01 11:30:00</td>\n",
       "      <td>2023-05-01 11:30:00</td>\n",
       "      <td>True</td>\n",
       "      <td>2023-05-01 10:00:00</td>\n",
       "    </tr>\n",
       "    <tr>\n",
       "      <th>6</th>\n",
       "      <td>6</td>\n",
       "      <td>1003</td>\n",
       "      <td>2023-05-01 14:00:00</td>\n",
       "      <td>2023-05-01 16:00:00</td>\n",
       "      <td>2023-05-01 16:00:00</td>\n",
       "      <td>False</td>\n",
       "      <td>NaT</td>\n",
       "    </tr>\n",
       "  </tbody>\n",
       "</table>\n",
       "</div>"
      ],
      "text/plain": [
       "   task_id  employee_id          start_time            end_time  \\\n",
       "0        1         1001 2023-05-01 08:00:00 2023-05-01 09:00:00   \n",
       "1        2         1001 2023-05-01 08:30:00 2023-05-01 10:30:00   \n",
       "2        3         1001 2023-05-01 11:00:00 2023-05-01 12:00:00   \n",
       "3        7         1001 2023-05-01 13:00:00 2023-05-01 15:30:00   \n",
       "4        4         1002 2023-05-01 09:00:00 2023-05-01 10:00:00   \n",
       "5        5         1002 2023-05-01 09:30:00 2023-05-01 11:30:00   \n",
       "6        6         1003 2023-05-01 14:00:00 2023-05-01 16:00:00   \n",
       "\n",
       "      latest_end_time  overlap       prev_end_time  \n",
       "0 2023-05-01 09:00:00    False                 NaT  \n",
       "1 2023-05-01 10:30:00     True 2023-05-01 09:00:00  \n",
       "2 2023-05-01 12:00:00    False 2023-05-01 10:30:00  \n",
       "3 2023-05-01 15:30:00    False 2023-05-01 12:00:00  \n",
       "4 2023-05-01 10:00:00    False                 NaT  \n",
       "5 2023-05-01 11:30:00     True 2023-05-01 10:00:00  \n",
       "6 2023-05-01 16:00:00    False                 NaT  "
      ]
     },
     "execution_count": 16,
     "metadata": {},
     "output_type": "execute_result"
    }
   ],
   "source": [
    "tasks.sort_values(by=['employee_id', 'start_time'], inplace=True, ignore_index=True)\n",
    "tasks['latest_end_time'] = tasks.groupby(by=['employee_id'])['end_time'].cummax()\n",
    "tasks['prev_end_time'] = tasks.groupby(by=['employee_id'])['end_time'].shift(1)\n",
    "tasks['overlap'] = getattr(tasks, 'start_time') <= getattr(tasks, 'prev_end_time')\n",
    "tasks"
   ]
  },
  {
   "cell_type": "code",
   "execution_count": 60,
   "metadata": {},
   "outputs": [
    {
     "data": {
      "text/plain": [
       "0   2023-05-01 09:00:00\n",
       "1   2023-05-01 10:30:00\n",
       "2   2023-05-01 12:00:00\n",
       "3   2023-05-01 15:30:00\n",
       "4   2023-05-01 10:00:00\n",
       "5   2023-05-01 11:30:00\n",
       "6   2023-05-01 16:00:00\n",
       "Name: end_time, dtype: datetime64[ns]"
      ]
     },
     "execution_count": 60,
     "metadata": {},
     "output_type": "execute_result"
    }
   ],
   "source": [
    "tasks.sort_values(by=['employee_id', 'start_time'], inplace=True, ignore_index=True)\n",
    "tasks['latest_end_time'] = tasks.groupby(by=['employee_id'])['end_time'].cummax()\n",
    "# tasks"
   ]
  }
 ],
 "metadata": {
  "kernelspec": {
   "display_name": "Python 3",
   "language": "python",
   "name": "python3"
  },
  "language_info": {
   "codemirror_mode": {
    "name": "ipython",
    "version": 3
   },
   "file_extension": ".py",
   "mimetype": "text/x-python",
   "name": "python",
   "nbconvert_exporter": "python",
   "pygments_lexer": "ipython3",
   "version": "3.10.9"
  }
 },
 "nbformat": 4,
 "nbformat_minor": 2
}
