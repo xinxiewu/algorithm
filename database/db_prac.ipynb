{
 "cells": [
  {
   "cell_type": "markdown",
   "metadata": {},
   "source": [
    "# Database Pratice, in Pandas"
   ]
  },
  {
   "cell_type": "code",
   "execution_count": 2,
   "metadata": {},
   "outputs": [],
   "source": [
    "import pandas as pd\n",
    "import numpy as np"
   ]
  },
  {
   "cell_type": "markdown",
   "metadata": {},
   "source": [
    "3103. Find Trending Hashtags II, @06/10/2024\n",
    "\n",
    "Notes: \n",
    "<br>&emsp;1. getattr(df, col).dt.year/month/day\n",
    "<br>&emsp;2. df[col].str.findall(r\"#\\w+\")/extractall(r\"#\\w+\")"
   ]
  },
  {
   "cell_type": "code",
   "execution_count": 8,
   "metadata": {},
   "outputs": [
    {
     "data": {
      "text/html": [
       "<div>\n",
       "<style scoped>\n",
       "    .dataframe tbody tr th:only-of-type {\n",
       "        vertical-align: middle;\n",
       "    }\n",
       "\n",
       "    .dataframe tbody tr th {\n",
       "        vertical-align: top;\n",
       "    }\n",
       "\n",
       "    .dataframe thead th {\n",
       "        text-align: right;\n",
       "    }\n",
       "</style>\n",
       "<table border=\"1\" class=\"dataframe\">\n",
       "  <thead>\n",
       "    <tr style=\"text-align: right;\">\n",
       "      <th></th>\n",
       "      <th>user_id</th>\n",
       "      <th>tweet_id</th>\n",
       "      <th>tweet</th>\n",
       "      <th>tweet_date</th>\n",
       "    </tr>\n",
       "  </thead>\n",
       "  <tbody>\n",
       "    <tr>\n",
       "      <th>0</th>\n",
       "      <td>135</td>\n",
       "      <td>13</td>\n",
       "      <td>Enjoying a great start to the day. #HappyDay #...</td>\n",
       "      <td>2024-02-01</td>\n",
       "    </tr>\n",
       "  </tbody>\n",
       "</table>\n",
       "</div>"
      ],
      "text/plain": [
       "   user_id  tweet_id                                              tweet  \\\n",
       "0      135        13  Enjoying a great start to the day. #HappyDay #...   \n",
       "\n",
       "  tweet_date  \n",
       "0 2024-02-01  "
      ]
     },
     "execution_count": 8,
     "metadata": {},
     "output_type": "execute_result"
    }
   ],
   "source": [
    "data = [[135, 13, 'Enjoying a great start to the day. #HappyDay #MorningVibes', '2024-02-01'], [136, 14, 'Another #HappyDay with good vibes! #FeelGood', '2024-02-03'], [137, 15, 'Productivity peaks! #WorkLife #ProductiveDay', '2024-02-04'], [138, 16, 'Exploring new tech frontiers. #TechLife #Innovation', '2024-02-04'], [139, 17, \"Gratitude for today's moments. #HappyDay #Thankful\", '2024-02-05'], [140, 18, 'Innovation drives us. #TechLife #FutureTech', '2024-02-07'], [141, 19, \"Connecting with nature's serenity. #Nature #Peaceful\", '2024-02-09']]\n",
    "tweets = pd.DataFrame(data, columns=['user_id', 'tweet_id', 'tweet', 'tweet_date']).astype({'user_id':'Int64', 'tweet_id':'Int64', 'tweet':'object', 'tweet_date':'datetime64[ns]'})\n",
    "tweets.head(1)"
   ]
  },
  {
   "cell_type": "code",
   "execution_count": 49,
   "metadata": {},
   "outputs": [
    {
     "data": {
      "text/html": [
       "<div>\n",
       "<style scoped>\n",
       "    .dataframe tbody tr th:only-of-type {\n",
       "        vertical-align: middle;\n",
       "    }\n",
       "\n",
       "    .dataframe tbody tr th {\n",
       "        vertical-align: top;\n",
       "    }\n",
       "\n",
       "    .dataframe thead th {\n",
       "        text-align: right;\n",
       "    }\n",
       "</style>\n",
       "<table border=\"1\" class=\"dataframe\">\n",
       "  <thead>\n",
       "    <tr style=\"text-align: right;\">\n",
       "      <th></th>\n",
       "      <th>hashtag</th>\n",
       "      <th>count</th>\n",
       "    </tr>\n",
       "  </thead>\n",
       "  <tbody>\n",
       "    <tr>\n",
       "      <th>0</th>\n",
       "      <td>#HappyDay</td>\n",
       "      <td>3</td>\n",
       "    </tr>\n",
       "    <tr>\n",
       "      <th>1</th>\n",
       "      <td>#TechLife</td>\n",
       "      <td>2</td>\n",
       "    </tr>\n",
       "    <tr>\n",
       "      <th>2</th>\n",
       "      <td>#WorkLife</td>\n",
       "      <td>1</td>\n",
       "    </tr>\n",
       "  </tbody>\n",
       "</table>\n",
       "</div>"
      ],
      "text/plain": [
       "     hashtag  count\n",
       "0  #HappyDay      3\n",
       "1  #TechLife      2\n",
       "2  #WorkLife      1"
      ]
     },
     "execution_count": 49,
     "metadata": {},
     "output_type": "execute_result"
    }
   ],
   "source": [
    "def find_trending_hashtags(tweets: pd.DataFrame) -> pd.DataFrame:\n",
    "    # in Feb, 2024\n",
    "    # tweets.query(f\"{getattr(tweets, 'tweet_date').dt.year} == 2024 and {getattr(tweets, 'tweet_date').dt.month} == 2\")\n",
    "    tweets['year'] = getattr(tweets, 'tweet_date').dt.year\n",
    "    tweets['month'] = getattr(tweets, 'tweet_date').dt.month\n",
    "    res = getattr(tweets.query(f\"year == 2024 and month == 2\"), 'tweet').str.extractall(r\"(#\\w+)\").reset_index().rename(columns={0: 'hashtag'})\\\n",
    "          .groupby(by=['hashtag']).agg({'hashtag':'count'}).rename(columns={'hashtag': 'count'}).reset_index().sort_values(by=['count', 'hashtag'], ascending=[False, False], ignore_index=True)\n",
    "    return res.iloc[0:3, :]\n",
    "\n",
    "res = find_trending_hashtags(tweets=tweets)\n",
    "res"
   ]
  },
  {
   "cell_type": "markdown",
   "metadata": {},
   "source": [
    "3061. Calculate Trapping Rain Water"
   ]
  },
  {
   "cell_type": "code",
   "execution_count": 2,
   "metadata": {},
   "outputs": [
    {
     "data": {
      "text/html": [
       "<div>\n",
       "<style scoped>\n",
       "    .dataframe tbody tr th:only-of-type {\n",
       "        vertical-align: middle;\n",
       "    }\n",
       "\n",
       "    .dataframe tbody tr th {\n",
       "        vertical-align: top;\n",
       "    }\n",
       "\n",
       "    .dataframe thead th {\n",
       "        text-align: right;\n",
       "    }\n",
       "</style>\n",
       "<table border=\"1\" class=\"dataframe\">\n",
       "  <thead>\n",
       "    <tr style=\"text-align: right;\">\n",
       "      <th></th>\n",
       "      <th>id</th>\n",
       "      <th>height</th>\n",
       "    </tr>\n",
       "  </thead>\n",
       "  <tbody>\n",
       "    <tr>\n",
       "      <th>0</th>\n",
       "      <td>1</td>\n",
       "      <td>0</td>\n",
       "    </tr>\n",
       "  </tbody>\n",
       "</table>\n",
       "</div>"
      ],
      "text/plain": [
       "   id  height\n",
       "0   1       0"
      ]
     },
     "execution_count": 2,
     "metadata": {},
     "output_type": "execute_result"
    }
   ],
   "source": [
    "data = [[1, 0], [2, 1], [3, 0], [4, 2], [5, 1], [6, 0], [7, 1], [8, 3], [9, 2], [10, 1], [11, 2], [12, 1]]\n",
    "heights = pd.DataFrame(data, columns=['id', 'height']).astype({'id':'Int64', 'height':'Int64'})\n",
    "heights.head(1)"
   ]
  },
  {
   "cell_type": "code",
   "execution_count": 12,
   "metadata": {},
   "outputs": [
    {
     "data": {
      "text/html": [
       "<div>\n",
       "<style scoped>\n",
       "    .dataframe tbody tr th:only-of-type {\n",
       "        vertical-align: middle;\n",
       "    }\n",
       "\n",
       "    .dataframe tbody tr th {\n",
       "        vertical-align: top;\n",
       "    }\n",
       "\n",
       "    .dataframe thead th {\n",
       "        text-align: right;\n",
       "    }\n",
       "</style>\n",
       "<table border=\"1\" class=\"dataframe\">\n",
       "  <thead>\n",
       "    <tr style=\"text-align: right;\">\n",
       "      <th></th>\n",
       "      <th>total_trapped_water</th>\n",
       "    </tr>\n",
       "  </thead>\n",
       "  <tbody>\n",
       "    <tr>\n",
       "      <th>0</th>\n",
       "      <td>6</td>\n",
       "    </tr>\n",
       "  </tbody>\n",
       "</table>\n",
       "</div>"
      ],
      "text/plain": [
       "   total_trapped_water\n",
       "0                    6"
      ]
     },
     "execution_count": 12,
     "metadata": {},
     "output_type": "execute_result"
    }
   ],
   "source": [
    "def calculate_trapped_rain_water(heights: pd.DataFrame) -> pd.DataFrame:\n",
    "    heights['left_max'] = getattr(heights, 'height').cummax()\n",
    "    heights['right_max'] = getattr(heights, 'height')[::-1].cummax()[::-1]\n",
    "    heights['trapped_water'] = heights.apply(lambda row: min(row['left_max'], row['right_max']) - row['height'], axis=1)\n",
    "    return pd.DataFrame(data=[heights['trapped_water'].sum()], columns=['total_trapped_water'])\n",
    "\n",
    "res = calculate_trapped_rain_water(heights=heights)\n",
    "res"
   ]
  },
  {
   "cell_type": "markdown",
   "metadata": {},
   "source": [
    "602. Friend Requests II: Who Has the Most Friends"
   ]
  },
  {
   "cell_type": "code",
   "execution_count": 4,
   "metadata": {},
   "outputs": [
    {
     "data": {
      "text/html": [
       "<div>\n",
       "<style scoped>\n",
       "    .dataframe tbody tr th:only-of-type {\n",
       "        vertical-align: middle;\n",
       "    }\n",
       "\n",
       "    .dataframe tbody tr th {\n",
       "        vertical-align: top;\n",
       "    }\n",
       "\n",
       "    .dataframe thead th {\n",
       "        text-align: right;\n",
       "    }\n",
       "</style>\n",
       "<table border=\"1\" class=\"dataframe\">\n",
       "  <thead>\n",
       "    <tr style=\"text-align: right;\">\n",
       "      <th></th>\n",
       "      <th>requester_id</th>\n",
       "      <th>accepter_id</th>\n",
       "      <th>accept_date</th>\n",
       "    </tr>\n",
       "  </thead>\n",
       "  <tbody>\n",
       "    <tr>\n",
       "      <th>0</th>\n",
       "      <td>1</td>\n",
       "      <td>2</td>\n",
       "      <td>2016-06-03</td>\n",
       "    </tr>\n",
       "  </tbody>\n",
       "</table>\n",
       "</div>"
      ],
      "text/plain": [
       "   requester_id  accepter_id accept_date\n",
       "0             1            2  2016-06-03"
      ]
     },
     "execution_count": 4,
     "metadata": {},
     "output_type": "execute_result"
    }
   ],
   "source": [
    "data = [[1, 2, '2016/06/03'], [1, 3, '2016/06/08'], [2, 3, '2016/06/08'], [3, 4, '2016/06/09']]\n",
    "request_accepted = pd.DataFrame(data, columns=['requester_id', 'accepter_id', 'accept_date']).astype({'requester_id':'Int64', 'accepter_id':'Int64', 'accept_date':'datetime64[ns]'})\n",
    "request_accepted.head(1)"
   ]
  },
  {
   "cell_type": "code",
   "execution_count": 22,
   "metadata": {},
   "outputs": [
    {
     "data": {
      "text/html": [
       "<div>\n",
       "<style scoped>\n",
       "    .dataframe tbody tr th:only-of-type {\n",
       "        vertical-align: middle;\n",
       "    }\n",
       "\n",
       "    .dataframe tbody tr th {\n",
       "        vertical-align: top;\n",
       "    }\n",
       "\n",
       "    .dataframe thead th {\n",
       "        text-align: right;\n",
       "    }\n",
       "</style>\n",
       "<table border=\"1\" class=\"dataframe\">\n",
       "  <thead>\n",
       "    <tr style=\"text-align: right;\">\n",
       "      <th></th>\n",
       "      <th>id</th>\n",
       "      <th>num</th>\n",
       "    </tr>\n",
       "  </thead>\n",
       "  <tbody>\n",
       "    <tr>\n",
       "      <th>0</th>\n",
       "      <td>3</td>\n",
       "      <td>3</td>\n",
       "    </tr>\n",
       "  </tbody>\n",
       "</table>\n",
       "</div>"
      ],
      "text/plain": [
       "   id  num\n",
       "0   3    3"
      ]
     },
     "execution_count": 22,
     "metadata": {},
     "output_type": "execute_result"
    }
   ],
   "source": [
    "user = pd.concat([getattr(request_accepted, 'requester_id'), getattr(request_accepted, 'accepter_id')])\\\n",
    "         .value_counts().to_frame().reset_index().rename(columns={0: 'num', 'index': 'id'})\n",
    "user.query(f\"num == {getattr(user, 'num').max()}\")"
   ]
  },
  {
   "cell_type": "markdown",
   "metadata": {},
   "source": [
    "3156. Employee Task Duration and Concurrent Tasks, @06/08/2024\n",
    "\n",
    "Notes: \n",
    "<br>&emsp;1. df.groupby(as_index=), False if reduce the dataset; \n",
    "<br>&emsp;2. df.groupby().agg(), the purpose of .agg() is to reduce the dataset; otherwise, use df.groupby()[cols].func();\n",
    "<br>&emsp;3. Create new column by condition: np.select, apply (axis=1 if iterate by row, lambda)"
   ]
  },
  {
   "cell_type": "code",
   "execution_count": 2,
   "metadata": {},
   "outputs": [
    {
     "data": {
      "text/html": [
       "<div>\n",
       "<style scoped>\n",
       "    .dataframe tbody tr th:only-of-type {\n",
       "        vertical-align: middle;\n",
       "    }\n",
       "\n",
       "    .dataframe tbody tr th {\n",
       "        vertical-align: top;\n",
       "    }\n",
       "\n",
       "    .dataframe thead th {\n",
       "        text-align: right;\n",
       "    }\n",
       "</style>\n",
       "<table border=\"1\" class=\"dataframe\">\n",
       "  <thead>\n",
       "    <tr style=\"text-align: right;\">\n",
       "      <th></th>\n",
       "      <th>task_id</th>\n",
       "      <th>employee_id</th>\n",
       "      <th>start_time</th>\n",
       "      <th>end_time</th>\n",
       "    </tr>\n",
       "  </thead>\n",
       "  <tbody>\n",
       "    <tr>\n",
       "      <th>0</th>\n",
       "      <td>1</td>\n",
       "      <td>1001</td>\n",
       "      <td>2023-05-01 08:00:00</td>\n",
       "      <td>2023-05-01 09:00:00</td>\n",
       "    </tr>\n",
       "  </tbody>\n",
       "</table>\n",
       "</div>"
      ],
      "text/plain": [
       "   task_id  employee_id          start_time            end_time\n",
       "0        1         1001 2023-05-01 08:00:00 2023-05-01 09:00:00"
      ]
     },
     "execution_count": 2,
     "metadata": {},
     "output_type": "execute_result"
    }
   ],
   "source": [
    "data = [[1, 1001, '2023-05-01 08:00:00', '2023-05-01 09:00:00'], [2, 1001, '2023-05-01 08:30:00', '2023-05-01 10:30:00'], [3, 1001, '2023-05-01 11:00:00', '2023-05-01 12:00:00'], [7, 1001, '2023-05-01 13:00:00', '2023-05-01 15:30:00'], [4, 1002, '2023-05-01 09:00:00', '2023-05-01 10:00:00'], [5, 1002, '2023-05-01 09:30:00', '2023-05-01 11:30:00'], [6, 1003, '2023-05-01 14:00:00', '2023-05-01 16:00:00']]\n",
    "tasks = pd.DataFrame(data, columns=['task_id', 'employee_id', 'start_time', 'end_time']).astype({\n",
    "    'task_id': 'Int64',\n",
    "    'employee_id': 'Int64',\n",
    "    'start_time': 'datetime64[ns]',\n",
    "    'end_time': 'datetime64[ns]'\n",
    "})\n",
    "tasks.head(1)"
   ]
  },
  {
   "cell_type": "code",
   "execution_count": null,
   "metadata": {},
   "outputs": [],
   "source": [
    "def find_total_duration(tasks: pd.DataFrame) -> pd.DataFrame:\n",
    "    tasks.sort_values(by=['employee_id', 'start_time'], inplace=True, ignore_index=True)\n",
    "    pass\n",
    "\n",
    "find_total_duration(tasks=tasks)"
   ]
  },
  {
   "cell_type": "code",
   "execution_count": 16,
   "metadata": {},
   "outputs": [
    {
     "data": {
      "text/html": [
       "<div>\n",
       "<style scoped>\n",
       "    .dataframe tbody tr th:only-of-type {\n",
       "        vertical-align: middle;\n",
       "    }\n",
       "\n",
       "    .dataframe tbody tr th {\n",
       "        vertical-align: top;\n",
       "    }\n",
       "\n",
       "    .dataframe thead th {\n",
       "        text-align: right;\n",
       "    }\n",
       "</style>\n",
       "<table border=\"1\" class=\"dataframe\">\n",
       "  <thead>\n",
       "    <tr style=\"text-align: right;\">\n",
       "      <th></th>\n",
       "      <th>task_id</th>\n",
       "      <th>employee_id</th>\n",
       "      <th>start_time</th>\n",
       "      <th>end_time</th>\n",
       "      <th>latest_end_time</th>\n",
       "      <th>overlap</th>\n",
       "      <th>prev_end_time</th>\n",
       "    </tr>\n",
       "  </thead>\n",
       "  <tbody>\n",
       "    <tr>\n",
       "      <th>0</th>\n",
       "      <td>1</td>\n",
       "      <td>1001</td>\n",
       "      <td>2023-05-01 08:00:00</td>\n",
       "      <td>2023-05-01 09:00:00</td>\n",
       "      <td>2023-05-01 09:00:00</td>\n",
       "      <td>False</td>\n",
       "      <td>NaT</td>\n",
       "    </tr>\n",
       "    <tr>\n",
       "      <th>1</th>\n",
       "      <td>2</td>\n",
       "      <td>1001</td>\n",
       "      <td>2023-05-01 08:30:00</td>\n",
       "      <td>2023-05-01 10:30:00</td>\n",
       "      <td>2023-05-01 10:30:00</td>\n",
       "      <td>True</td>\n",
       "      <td>2023-05-01 09:00:00</td>\n",
       "    </tr>\n",
       "    <tr>\n",
       "      <th>2</th>\n",
       "      <td>3</td>\n",
       "      <td>1001</td>\n",
       "      <td>2023-05-01 11:00:00</td>\n",
       "      <td>2023-05-01 12:00:00</td>\n",
       "      <td>2023-05-01 12:00:00</td>\n",
       "      <td>False</td>\n",
       "      <td>2023-05-01 10:30:00</td>\n",
       "    </tr>\n",
       "    <tr>\n",
       "      <th>3</th>\n",
       "      <td>7</td>\n",
       "      <td>1001</td>\n",
       "      <td>2023-05-01 13:00:00</td>\n",
       "      <td>2023-05-01 15:30:00</td>\n",
       "      <td>2023-05-01 15:30:00</td>\n",
       "      <td>False</td>\n",
       "      <td>2023-05-01 12:00:00</td>\n",
       "    </tr>\n",
       "    <tr>\n",
       "      <th>4</th>\n",
       "      <td>4</td>\n",
       "      <td>1002</td>\n",
       "      <td>2023-05-01 09:00:00</td>\n",
       "      <td>2023-05-01 10:00:00</td>\n",
       "      <td>2023-05-01 10:00:00</td>\n",
       "      <td>False</td>\n",
       "      <td>NaT</td>\n",
       "    </tr>\n",
       "    <tr>\n",
       "      <th>5</th>\n",
       "      <td>5</td>\n",
       "      <td>1002</td>\n",
       "      <td>2023-05-01 09:30:00</td>\n",
       "      <td>2023-05-01 11:30:00</td>\n",
       "      <td>2023-05-01 11:30:00</td>\n",
       "      <td>True</td>\n",
       "      <td>2023-05-01 10:00:00</td>\n",
       "    </tr>\n",
       "    <tr>\n",
       "      <th>6</th>\n",
       "      <td>6</td>\n",
       "      <td>1003</td>\n",
       "      <td>2023-05-01 14:00:00</td>\n",
       "      <td>2023-05-01 16:00:00</td>\n",
       "      <td>2023-05-01 16:00:00</td>\n",
       "      <td>False</td>\n",
       "      <td>NaT</td>\n",
       "    </tr>\n",
       "  </tbody>\n",
       "</table>\n",
       "</div>"
      ],
      "text/plain": [
       "   task_id  employee_id          start_time            end_time  \\\n",
       "0        1         1001 2023-05-01 08:00:00 2023-05-01 09:00:00   \n",
       "1        2         1001 2023-05-01 08:30:00 2023-05-01 10:30:00   \n",
       "2        3         1001 2023-05-01 11:00:00 2023-05-01 12:00:00   \n",
       "3        7         1001 2023-05-01 13:00:00 2023-05-01 15:30:00   \n",
       "4        4         1002 2023-05-01 09:00:00 2023-05-01 10:00:00   \n",
       "5        5         1002 2023-05-01 09:30:00 2023-05-01 11:30:00   \n",
       "6        6         1003 2023-05-01 14:00:00 2023-05-01 16:00:00   \n",
       "\n",
       "      latest_end_time  overlap       prev_end_time  \n",
       "0 2023-05-01 09:00:00    False                 NaT  \n",
       "1 2023-05-01 10:30:00     True 2023-05-01 09:00:00  \n",
       "2 2023-05-01 12:00:00    False 2023-05-01 10:30:00  \n",
       "3 2023-05-01 15:30:00    False 2023-05-01 12:00:00  \n",
       "4 2023-05-01 10:00:00    False                 NaT  \n",
       "5 2023-05-01 11:30:00     True 2023-05-01 10:00:00  \n",
       "6 2023-05-01 16:00:00    False                 NaT  "
      ]
     },
     "execution_count": 16,
     "metadata": {},
     "output_type": "execute_result"
    }
   ],
   "source": [
    "# Sort by employee_id and start_time\n",
    "tasks.sort_values(by=['employee_id', 'start_time'], inplace=True, ignore_index=True)\n",
    "# Overlap detection\n",
    "tasks['latest_end_time'] = tasks.groupby(by=['employee_id'])['end_time'].cummax()\n",
    "tasks['prev_end_time'] = tasks.groupby(by=['employee_id'])['end_time'].shift(1)\n",
    "tasks['overlap'] = getattr(tasks, 'start_time') <= getattr(tasks, 'prev_end_time')\n",
    "\n",
    "tasks"
   ]
  },
  {
   "cell_type": "code",
   "execution_count": 60,
   "metadata": {},
   "outputs": [
    {
     "data": {
      "text/plain": [
       "0   2023-05-01 09:00:00\n",
       "1   2023-05-01 10:30:00\n",
       "2   2023-05-01 12:00:00\n",
       "3   2023-05-01 15:30:00\n",
       "4   2023-05-01 10:00:00\n",
       "5   2023-05-01 11:30:00\n",
       "6   2023-05-01 16:00:00\n",
       "Name: end_time, dtype: datetime64[ns]"
      ]
     },
     "execution_count": 60,
     "metadata": {},
     "output_type": "execute_result"
    }
   ],
   "source": [
    "tasks.sort_values(by=['employee_id', 'start_time'], inplace=True, ignore_index=True)\n",
    "tasks['latest_end_time'] = tasks.groupby(by=['employee_id'])['end_time'].cummax()\n",
    "# tasks"
   ]
  }
 ],
 "metadata": {
  "kernelspec": {
   "display_name": "Python 3",
   "language": "python",
   "name": "python3"
  },
  "language_info": {
   "codemirror_mode": {
    "name": "ipython",
    "version": 3
   },
   "file_extension": ".py",
   "mimetype": "text/x-python",
   "name": "python",
   "nbconvert_exporter": "python",
   "pygments_lexer": "ipython3",
   "version": "3.11.2"
  }
 },
 "nbformat": 4,
 "nbformat_minor": 2
}
