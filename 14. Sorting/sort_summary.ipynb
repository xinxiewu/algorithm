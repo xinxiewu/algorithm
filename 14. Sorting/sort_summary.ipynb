{
 "cells": [
  {
   "cell_type": "markdown",
   "metadata": {},
   "source": [
    "# Summary of Sorting Algorithms"
   ]
  },
  {
   "cell_type": "code",
   "execution_count": 3,
   "metadata": {},
   "outputs": [],
   "source": [
    "from typing import List"
   ]
  },
  {
   "cell_type": "markdown",
   "metadata": {},
   "source": [
    "## Bubble Sort"
   ]
  },
  {
   "cell_type": "markdown",
   "metadata": {},
   "source": [
    "**Inefficiency** Time Complexity: $O(n^2)$ - Repeatedly compare and swap adjacent elements until sorted, ensuring the largest unsorted element moves to its correct position in each pass"
   ]
  },
  {
   "cell_type": "code",
   "execution_count": 9,
   "metadata": {},
   "outputs": [
    {
     "name": "stdout",
     "output_type": "stream",
     "text": [
      "[1, 2, 3, 4, 6, 7, 8, 9]\n"
     ]
    }
   ],
   "source": [
    "def bubble_sort(nums:List[int]) -> List[int]:\n",
    "    for i in range(len(nums)-1):\n",
    "        swap = False\n",
    "        for j in range(len(nums)-1-i):\n",
    "            if nums[j] > nums[j+1]:\n",
    "                nums[j], nums[j+1] = nums[j+1], nums[j]\n",
    "                swap = True\n",
    "        if not swap:\n",
    "            break\n",
    "\n",
    "li = [9, 8, 7, 6, 2, 3, 4, 1]\n",
    "bubble_sort(li)\n",
    "print(li)"
   ]
  },
  {
   "cell_type": "markdown",
   "metadata": {},
   "source": [
    "## Quick Sort"
   ]
  },
  {
   "cell_type": "markdown",
   "metadata": {},
   "source": [
    "**Commonly Used Simple & Efficient** Time Complexity: $O(nlogn)$ - Recursively algorithm by selecting pivot and partitioning"
   ]
  },
  {
   "cell_type": "code",
   "execution_count": 18,
   "metadata": {},
   "outputs": [
    {
     "name": "stdout",
     "output_type": "stream",
     "text": [
      "[1, 2, 3, 4, 6, 7, 8, 9]\n"
     ]
    }
   ],
   "source": [
    "def quick_sort(nums: List[int]) -> List[int]:\n",
    "    # quit\n",
    "    if len(nums) <= 1:\n",
    "        return nums\n",
    "    # single case\n",
    "    pivot = nums[len(nums)//2]\n",
    "    left, middle, right = [x for x in nums if x < pivot], [x for x in nums if x == pivot], [x for x in nums if x > pivot]\n",
    "    # recursive\n",
    "    return quick_sort(left) + middle + quick_sort(right)\n",
    "\n",
    "li = [9, 8, 7, 6, 2, 3, 4, 1]\n",
    "res = quick_sort(li)\n",
    "print(res)"
   ]
  },
  {
   "cell_type": "markdown",
   "metadata": {},
   "source": [
    "## Merge Sort"
   ]
  },
  {
   "cell_type": "markdown",
   "metadata": {},
   "source": [
    "Stable w/ guaranteed $O(nlogn)$ time complexity - Recursive algorithm by dividing halves, sorting each and merging back"
   ]
  },
  {
   "cell_type": "code",
   "execution_count": 21,
   "metadata": {},
   "outputs": [
    {
     "name": "stdout",
     "output_type": "stream",
     "text": [
      "[1, 2, 3, 4, 6, 7, 8, 9]\n"
     ]
    }
   ],
   "source": [
    "def merge_sort(nums: List[int]):\n",
    "    # quit\n",
    "    if len(nums) <= 1:\n",
    "        return nums\n",
    "    # single case\n",
    "    mid = len(nums)//2\n",
    "    left, right = nums[:mid], nums[mid:]\n",
    "    # recursive\n",
    "    merge_sort(left)\n",
    "    merge_sort(right)\n",
    "    i=j=k=0\n",
    "    while i<len(left) and j<len(right):\n",
    "        if left[i] < right[j]:\n",
    "            nums[k] = left[i]\n",
    "            i += 1\n",
    "        else:\n",
    "            nums[k] = right[j]\n",
    "            j += 1\n",
    "        k += 1\n",
    "\n",
    "    while i < len(left):\n",
    "        nums[k] = left[i]\n",
    "        i+=1\n",
    "        k+=1\n",
    "    while j < len(right):\n",
    "        nums[k] = right[j]\n",
    "        j+=1\n",
    "        k+=1   \n",
    "\n",
    "li = [9, 8, 7, 6, 2, 3, 4, 1]\n",
    "merge_sort(li)\n",
    "print(li)"
   ]
  },
  {
   "cell_type": "markdown",
   "metadata": {},
   "source": [
    "## Tim Sort (used in Python's sorted() and sort() function)"
   ]
  },
  {
   "cell_type": "code",
   "execution_count": null,
   "metadata": {},
   "outputs": [],
   "source": []
  },
  {
   "cell_type": "markdown",
   "metadata": {},
   "source": [
    "## Heap Sort"
   ]
  },
  {
   "cell_type": "code",
   "execution_count": null,
   "metadata": {},
   "outputs": [],
   "source": []
  },
  {
   "cell_type": "markdown",
   "metadata": {},
   "source": [
    "## Insertion Sort"
   ]
  },
  {
   "cell_type": "code",
   "execution_count": null,
   "metadata": {},
   "outputs": [],
   "source": []
  }
 ],
 "metadata": {
  "kernelspec": {
   "display_name": "Python 3",
   "language": "python",
   "name": "python3"
  },
  "language_info": {
   "codemirror_mode": {
    "name": "ipython",
    "version": 3
   },
   "file_extension": ".py",
   "mimetype": "text/x-python",
   "name": "python",
   "nbconvert_exporter": "python",
   "pygments_lexer": "ipython3",
   "version": "3.11.2"
  }
 },
 "nbformat": 4,
 "nbformat_minor": 2
}
