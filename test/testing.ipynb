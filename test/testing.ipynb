{
 "cells": [
  {
   "cell_type": "code",
   "execution_count": 28,
   "metadata": {},
   "outputs": [],
   "source": [
    "from typing import List\n",
    "def minAbsoluteDifference(nums: List[int], x: int) -> int:\n",
    "    if x == 0:\n",
    "        return 0\n",
    "    \n",
    "    res, n = 10**9, len(nums)\n",
    "    for i in range(0,n-x):\n",
    "        for j in range(i+x, n):\n",
    "            print(f\"nums[i]={nums[i]}, nums[j]={nums[j]}\")\n",
    "            temp = abs(nums[i]-nums[j])\n",
    "            print(temp)\n",
    "            if temp < res:\n",
    "                res = temp\n",
    "    return res"
   ]
  },
  {
   "cell_type": "code",
   "execution_count": 29,
   "metadata": {},
   "outputs": [
    {
     "name": "stdout",
     "output_type": "stream",
     "text": [
      "nums[i]=4, nums[j]=2\n",
      "2\n",
      "nums[i]=4, nums[j]=4\n",
      "0\n",
      "nums[i]=3, nums[j]=4\n",
      "1\n"
     ]
    },
    {
     "data": {
      "text/plain": [
       "0"
      ]
     },
     "execution_count": 29,
     "metadata": {},
     "output_type": "execute_result"
    }
   ],
   "source": [
    "minAbsoluteDifference(nums=[4,3,2,4], x=2)"
   ]
  },
  {
   "cell_type": "code",
   "execution_count": 2,
   "metadata": {},
   "outputs": [],
   "source": [
    "from typing import Optional\n",
    "class ListNode:\n",
    "    def __init__(self, val=0, next=None):\n",
    "        self.val = val\n",
    "        self.next = next\n",
    "\n",
    "def doubleIt(head: Optional[ListNode]) -> Optional[ListNode]:\n",
    "    res = ListNode()\n",
    "    res.next = head\n",
    "    add = helper(res)\n",
    "    if add == 1:\n",
    "        res.val = 1\n",
    "        return res\n",
    "    else:\n",
    "        return res.next\n",
    "\n",
    "def helper(head):\n",
    "    if head.next is None:\n",
    "        return 0\n",
    "    add = helper(head.next)\n",
    "    val = head.next.val*2+add\n",
    "    head.next.val = val%10\n",
    "    return val//10"
   ]
  },
  {
   "cell_type": "code",
   "execution_count": 6,
   "metadata": {},
   "outputs": [],
   "source": [
    "C = ListNode(val=9)\n",
    "B = ListNode(val=8, next=C)\n",
    "A = ListNode(val=1, next=B)"
   ]
  },
  {
   "cell_type": "code",
   "execution_count": 7,
   "metadata": {},
   "outputs": [],
   "source": [
    "res = doubleIt(A)"
   ]
  },
  {
   "cell_type": "code",
   "execution_count": 10,
   "metadata": {},
   "outputs": [
    {
     "data": {
      "text/plain": [
       "8"
      ]
     },
     "execution_count": 10,
     "metadata": {},
     "output_type": "execute_result"
    }
   ],
   "source": [
    "res.next.next.val"
   ]
  }
 ],
 "metadata": {
  "kernelspec": {
   "display_name": "Python 3",
   "language": "python",
   "name": "python3"
  },
  "language_info": {
   "codemirror_mode": {
    "name": "ipython",
    "version": 3
   },
   "file_extension": ".py",
   "mimetype": "text/x-python",
   "name": "python",
   "nbconvert_exporter": "python",
   "pygments_lexer": "ipython3",
   "version": "3.10.9"
  },
  "orig_nbformat": 4
 },
 "nbformat": 4,
 "nbformat_minor": 2
}
