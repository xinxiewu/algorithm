{
 "cells": [
  {
   "cell_type": "code",
   "execution_count": 28,
   "metadata": {},
   "outputs": [],
   "source": [
    "from typing import List\n",
    "def minAbsoluteDifference(nums: List[int], x: int) -> int:\n",
    "    if x == 0:\n",
    "        return 0\n",
    "    \n",
    "    res, n = 10**9, len(nums)\n",
    "    for i in range(0,n-x):\n",
    "        for j in range(i+x, n):\n",
    "            print(f\"nums[i]={nums[i]}, nums[j]={nums[j]}\")\n",
    "            temp = abs(nums[i]-nums[j])\n",
    "            print(temp)\n",
    "            if temp < res:\n",
    "                res = temp\n",
    "    return res"
   ]
  },
  {
   "cell_type": "code",
   "execution_count": 29,
   "metadata": {},
   "outputs": [
    {
     "name": "stdout",
     "output_type": "stream",
     "text": [
      "nums[i]=4, nums[j]=2\n",
      "2\n",
      "nums[i]=4, nums[j]=4\n",
      "0\n",
      "nums[i]=3, nums[j]=4\n",
      "1\n"
     ]
    },
    {
     "data": {
      "text/plain": [
       "0"
      ]
     },
     "execution_count": 29,
     "metadata": {},
     "output_type": "execute_result"
    }
   ],
   "source": [
    "minAbsoluteDifference(nums=[4,3,2,4], x=2)"
   ]
  },
  {
   "cell_type": "code",
   "execution_count": 31,
   "metadata": {},
   "outputs": [
    {
     "ename": "TypeError",
     "evalue": "bad operand type for abs(): 'list'",
     "output_type": "error",
     "traceback": [
      "\u001b[1;31m---------------------------------------------------------------------------\u001b[0m",
      "\u001b[1;31mTypeError\u001b[0m                                 Traceback (most recent call last)",
      "Cell \u001b[1;32mIn[31], line 2\u001b[0m\n\u001b[0;32m      1\u001b[0m nums\u001b[39m=\u001b[39m[\u001b[39m4\u001b[39m,\u001b[39m3\u001b[39m,\u001b[39m2\u001b[39m,\u001b[39m4\u001b[39m]\n\u001b[1;32m----> 2\u001b[0m \u001b[39mabs\u001b[39;49m(nums)\n",
      "\u001b[1;31mTypeError\u001b[0m: bad operand type for abs(): 'list'"
     ]
    }
   ],
   "source": [
    "nums=[4,3,2,4]\n",
    "abs(nums)"
   ]
  },
  {
   "cell_type": "code",
   "execution_count": 15,
   "metadata": {},
   "outputs": [],
   "source": [
    "C = ListNode(val=9)\n",
    "B = ListNode(val=8, next=C)\n",
    "A = ListNode(val=1, next=B)"
   ]
  },
  {
   "cell_type": "code",
   "execution_count": 22,
   "metadata": {},
   "outputs": [
    {
     "ename": "UnboundLocalError",
     "evalue": "cannot access local variable 'res' where it is not associated with a value",
     "output_type": "error",
     "traceback": [
      "\u001b[1;31m---------------------------------------------------------------------------\u001b[0m",
      "\u001b[1;31mUnboundLocalError\u001b[0m                         Traceback (most recent call last)",
      "Cell \u001b[1;32mIn[22], line 1\u001b[0m\n\u001b[1;32m----> 1\u001b[0m doubleIt(A)\n",
      "Cell \u001b[1;32mIn[21], line 10\u001b[0m, in \u001b[0;36mdoubleIt\u001b[1;34m(head)\u001b[0m\n\u001b[0;32m      8\u001b[0m     res \u001b[39m+\u001b[39m\u001b[39m=\u001b[39m cur\u001b[39m.\u001b[39mval \u001b[39m*\u001b[39m \u001b[39m10\u001b[39m\u001b[39m^\u001b[39mi\n\u001b[0;32m      9\u001b[0m     i \u001b[39m+\u001b[39m\u001b[39m=\u001b[39m \u001b[39m1\u001b[39m\n\u001b[1;32m---> 10\u001b[0m \u001b[39mreturn\u001b[39;00m develp(head)\n",
      "Cell \u001b[1;32mIn[21], line 7\u001b[0m, in \u001b[0;36mdoubleIt.<locals>.develp\u001b[1;34m(cur)\u001b[0m\n\u001b[0;32m      5\u001b[0m \u001b[39mif\u001b[39;00m cur \u001b[39mis\u001b[39;00m \u001b[39mNone\u001b[39;00m:\n\u001b[0;32m      6\u001b[0m     \u001b[39mreturn\u001b[39;00m\n\u001b[1;32m----> 7\u001b[0m develp(cur\u001b[39m.\u001b[39;49mnext)\n\u001b[0;32m      8\u001b[0m res \u001b[39m+\u001b[39m\u001b[39m=\u001b[39m cur\u001b[39m.\u001b[39mval \u001b[39m*\u001b[39m \u001b[39m10\u001b[39m\u001b[39m^\u001b[39mi\n\u001b[0;32m      9\u001b[0m i \u001b[39m+\u001b[39m\u001b[39m=\u001b[39m \u001b[39m1\u001b[39m\n",
      "Cell \u001b[1;32mIn[21], line 7\u001b[0m, in \u001b[0;36mdoubleIt.<locals>.develp\u001b[1;34m(cur)\u001b[0m\n\u001b[0;32m      5\u001b[0m \u001b[39mif\u001b[39;00m cur \u001b[39mis\u001b[39;00m \u001b[39mNone\u001b[39;00m:\n\u001b[0;32m      6\u001b[0m     \u001b[39mreturn\u001b[39;00m\n\u001b[1;32m----> 7\u001b[0m develp(cur\u001b[39m.\u001b[39;49mnext)\n\u001b[0;32m      8\u001b[0m res \u001b[39m+\u001b[39m\u001b[39m=\u001b[39m cur\u001b[39m.\u001b[39mval \u001b[39m*\u001b[39m \u001b[39m10\u001b[39m\u001b[39m^\u001b[39mi\n\u001b[0;32m      9\u001b[0m i \u001b[39m+\u001b[39m\u001b[39m=\u001b[39m \u001b[39m1\u001b[39m\n",
      "Cell \u001b[1;32mIn[21], line 8\u001b[0m, in \u001b[0;36mdoubleIt.<locals>.develp\u001b[1;34m(cur)\u001b[0m\n\u001b[0;32m      6\u001b[0m     \u001b[39mreturn\u001b[39;00m\n\u001b[0;32m      7\u001b[0m develp(cur\u001b[39m.\u001b[39mnext)\n\u001b[1;32m----> 8\u001b[0m res \u001b[39m+\u001b[39m\u001b[39m=\u001b[39m cur\u001b[39m.\u001b[39mval \u001b[39m*\u001b[39m \u001b[39m10\u001b[39m\u001b[39m^\u001b[39mi\n\u001b[0;32m      9\u001b[0m i \u001b[39m+\u001b[39m\u001b[39m=\u001b[39m \u001b[39m1\u001b[39m\n",
      "\u001b[1;31mUnboundLocalError\u001b[0m: cannot access local variable 'res' where it is not associated with a value"
     ]
    }
   ],
   "source": [
    "doubleIt(A)"
   ]
  }
 ],
 "metadata": {
  "kernelspec": {
   "display_name": "Python 3",
   "language": "python",
   "name": "python3"
  },
  "language_info": {
   "codemirror_mode": {
    "name": "ipython",
    "version": 3
   },
   "file_extension": ".py",
   "mimetype": "text/x-python",
   "name": "python",
   "nbconvert_exporter": "python",
   "pygments_lexer": "ipython3",
   "version": "3.11.2"
  },
  "orig_nbformat": 4
 },
 "nbformat": 4,
 "nbformat_minor": 2
}
